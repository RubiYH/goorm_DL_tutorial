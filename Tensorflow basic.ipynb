{
 "cells": [
  {
   "cell_type": "code",
   "execution_count": 2,
   "id": "346d99bf-ca0c-4ee7-9436-761b1af76c57",
   "metadata": {},
   "outputs": [],
   "source": [
    "import tensorflow.compat.v1 as tf\n",
    "\n",
    "tf.disable_v2_behavior()"
   ]
  },
  {
   "cell_type": "code",
   "execution_count": 4,
   "id": "25e28ab4-e35e-4359-92dc-b5fabf299c8d",
   "metadata": {},
   "outputs": [],
   "source": [
    "import numpy as np\n",
    "import pandas as pd"
   ]
  },
  {
   "cell_type": "code",
   "execution_count": 5,
   "id": "aac1731c-4152-496b-a523-a7b61101959e",
   "metadata": {},
   "outputs": [
    {
     "name": "stdout",
     "output_type": "stream",
     "text": [
      "Tensor(\"Add:0\", shape=(), dtype=int32)\n"
     ]
    }
   ],
   "source": [
    "a = tf.add(3,5)\n",
    "print(a)"
   ]
  },
  {
   "cell_type": "code",
   "execution_count": 7,
   "id": "528868a5-4680-4456-a353-9b9851add6f7",
   "metadata": {},
   "outputs": [
    {
     "name": "stdout",
     "output_type": "stream",
     "text": [
      "8\n"
     ]
    }
   ],
   "source": [
    "sess = tf.Session()\n",
    "\n",
    "print(sess.run(a))\n",
    "\n",
    "sess.close()"
   ]
  },
  {
   "cell_type": "code",
   "execution_count": 8,
   "id": "7e51fa88-3b32-4a33-a741-d3731dccbc59",
   "metadata": {},
   "outputs": [
    {
     "name": "stdout",
     "output_type": "stream",
     "text": [
      "8\n"
     ]
    }
   ],
   "source": [
    "with tf.Session() as sess:\n",
    "    print(sess.run(a))"
   ]
  },
  {
   "cell_type": "code",
   "execution_count": 18,
   "id": "20b4444b-af7b-4b72-8421-cb110533c2b2",
   "metadata": {},
   "outputs": [
    {
     "name": "stdout",
     "output_type": "stream",
     "text": [
      "7776 10\n"
     ]
    }
   ],
   "source": [
    "x = 2\n",
    "y = 3\n",
    "\n",
    "op1 = tf.add(x,y)\n",
    "op2 = tf.multiply(x,y)\n",
    "useless = tf.multiply(x,op1)\n",
    "op3 = tf.pow(op2,op1)\n",
    "\n",
    "with tf.Session() as sess:\n",
    "    op3, useless = sess.run([op3, useless])\n",
    "    print(op3, useless)"
   ]
  },
  {
   "cell_type": "markdown",
   "id": "9558e685-9190-49b1-8872-681d4a6ca1e8",
   "metadata": {},
   "source": [
    "# 03 - Linear Regression"
   ]
  },
  {
   "cell_type": "code",
   "execution_count": 21,
   "id": "9c5d83b3-601f-4ba5-8227-ef1457f8cd11",
   "metadata": {},
   "outputs": [],
   "source": [
    "import tensorflow.compat.v1 as tf\n",
    "tf.disable_v2_behavior()"
   ]
  },
  {
   "cell_type": "code",
   "execution_count": 24,
   "id": "11b36402-9358-409c-b3ae-a21713d287cd",
   "metadata": {},
   "outputs": [],
   "source": [
    "import pandas as pd\n",
    "import numpy as np\n",
    "import matplotlib.pyplot as plt\n",
    "from sklearn import datasets"
   ]
  },
  {
   "cell_type": "code",
   "execution_count": 90,
   "id": "ffd9404c-e7c3-4af1-b547-a7482dca06ae",
   "metadata": {},
   "outputs": [],
   "source": [
    "# 데이터 로드\n",
    "x_data = datasets.fetch_openml(name='boston',version=1).data.iloc[:,12]\n",
    "y_data = datasets.fetch_openml(name='boston',version=1).target"
   ]
  },
  {
   "cell_type": "code",
   "execution_count": 89,
   "id": "33263492-91c8-47a2-b04b-d25a4c698ad6",
   "metadata": {},
   "outputs": [
    {
     "data": {
      "text/html": [
       "<div>\n",
       "<style scoped>\n",
       "    .dataframe tbody tr th:only-of-type {\n",
       "        vertical-align: middle;\n",
       "    }\n",
       "\n",
       "    .dataframe tbody tr th {\n",
       "        vertical-align: top;\n",
       "    }\n",
       "\n",
       "    .dataframe thead th {\n",
       "        text-align: right;\n",
       "    }\n",
       "</style>\n",
       "<table border=\"1\" class=\"dataframe\">\n",
       "  <thead>\n",
       "    <tr style=\"text-align: right;\">\n",
       "      <th></th>\n",
       "      <th>LSTAT</th>\n",
       "      <th>MEDV</th>\n",
       "    </tr>\n",
       "  </thead>\n",
       "  <tbody>\n",
       "    <tr>\n",
       "      <th>0</th>\n",
       "      <td>4.98</td>\n",
       "      <td>24.0</td>\n",
       "    </tr>\n",
       "    <tr>\n",
       "      <th>1</th>\n",
       "      <td>9.14</td>\n",
       "      <td>21.6</td>\n",
       "    </tr>\n",
       "    <tr>\n",
       "      <th>2</th>\n",
       "      <td>4.03</td>\n",
       "      <td>34.7</td>\n",
       "    </tr>\n",
       "    <tr>\n",
       "      <th>3</th>\n",
       "      <td>2.94</td>\n",
       "      <td>33.4</td>\n",
       "    </tr>\n",
       "    <tr>\n",
       "      <th>4</th>\n",
       "      <td>5.33</td>\n",
       "      <td>36.2</td>\n",
       "    </tr>\n",
       "  </tbody>\n",
       "</table>\n",
       "</div>"
      ],
      "text/plain": [
       "   LSTAT  MEDV\n",
       "0   4.98  24.0\n",
       "1   9.14  21.6\n",
       "2   4.03  34.7\n",
       "3   2.94  33.4\n",
       "4   5.33  36.2"
      ]
     },
     "execution_count": 89,
     "metadata": {},
     "output_type": "execute_result"
    }
   ],
   "source": [
    "df = pd.DataFrame([x_data, y_data]).transpose()\n",
    "df.head()"
   ]
  },
  {
   "cell_type": "code",
   "execution_count": 91,
   "id": "bdd6eb23-db8c-4e36-88cd-387d67d9ecde",
   "metadata": {},
   "outputs": [],
   "source": [
    "w = tf.Variable(tf.random_normal([1])) # parameter 세타 정규분포로부터 랜덤하게 초기화\n",
    "b = tf.Variable(tf.random_normal([1]))\n",
    "\n",
    "y_predicted = w * x_data + b"
   ]
  },
  {
   "cell_type": "markdown",
   "id": "46dc6262-917a-4a5e-b5f0-73175d77a36b",
   "metadata": {},
   "source": [
    "loss = tf.reduce_mean(tf.square(y_predicted - y_data)) # MSE (평균 제곱 오차)\n",
    "optimizer = tf.train.GradientDescentOptimizer(0.001) # learning rate\n",
    "train = optimizer.minimize(loss)"
   ]
  },
  {
   "cell_type": "code",
   "execution_count": 98,
   "id": "2a986ce3-5e38-41d5-bff7-6a8ac83b73c3",
   "metadata": {},
   "outputs": [],
   "source": [
    "# for name in dir(tf.train):\n",
    "#     if 'Optimizer' in name:\n",
    "#         print(name)"
   ]
  },
  {
   "cell_type": "code",
   "execution_count": 102,
   "id": "7f381f32-f6b0-4069-a9df-612bcb8ecb19",
   "metadata": {},
   "outputs": [
    {
     "name": "stdout",
     "output_type": "stream",
     "text": [
      "Step 0: w [0.3779239] b [0.0841812]\n",
      "loss 440.3485107421875\n",
      "\n",
      "Step 1000: w [0.32782063] b [13.269212]\n",
      "loss 147.76034545898438\n",
      "\n",
      "Step 2000: w [-0.15996341] b [21.393906]\n",
      "loss 80.25692749023438\n",
      "\n",
      "Step 3000: w [-0.46154943] b [26.417225]\n",
      "loss 54.4522590637207\n",
      "\n",
      "Step 4000: w [-0.6480176] b [29.523098]\n",
      "loss 44.587642669677734\n",
      "\n",
      "Step 5000: w [-0.7633086] b [31.443424]\n",
      "loss 40.816612243652344\n",
      "\n",
      "Step 6000: w [-0.83458996] b [32.63071]\n",
      "loss 39.37507247924805\n",
      "\n",
      "Step 7000: w [-0.8786624] b [33.364796]\n",
      "loss 38.823997497558594\n",
      "\n",
      "Step 8000: w [-0.90591127] b [33.818665]\n",
      "loss 38.61333465576172\n",
      "\n",
      "Step 9000: w [-0.9227593] b [34.099285]\n",
      "loss 38.532806396484375\n",
      "\n"
     ]
    }
   ],
   "source": [
    "with tf.Session() as sess:\n",
    "    sess.run(tf.global_variables_initializer()) # tf.Variable 초기화\n",
    "\n",
    "    for step in range(10000): # epoch\n",
    "        sess.run(train) # 실제 gradient descent 실행되는 코드\n",
    "\n",
    "        # 1천번마다 확인용\n",
    "        if step % 1000 == 0:\n",
    "            print('Step {}: w {} b {}'.format(step, sess.run(w),sess.run(b)))\n",
    "            print('loss {}'.format(sess.run(loss)))\n",
    "            print()\n",
    "        #################\n",
    "\n",
    "    w_out, b_out = sess.run([w,b]) # 마지막 세타값으로 run"
   ]
  },
  {
   "cell_type": "code",
   "execution_count": 103,
   "id": "c6bb4b72-9d2e-4fef-90c8-89e2fdbc9850",
   "metadata": {},
   "outputs": [
    {
     "data": {
      "text/plain": [
       "array([-0.9331684], dtype=float32)"
      ]
     },
     "execution_count": 103,
     "metadata": {},
     "output_type": "execute_result"
    }
   ],
   "source": [
    "w_out"
   ]
  },
  {
   "cell_type": "code",
   "execution_count": 104,
   "id": "8219eb42-5362-4e5c-adaf-e2c38e79586b",
   "metadata": {},
   "outputs": [
    {
     "data": {
      "text/plain": [
       "array([34.272663], dtype=float32)"
      ]
     },
     "execution_count": 104,
     "metadata": {},
     "output_type": "execute_result"
    }
   ],
   "source": [
    "b_out"
   ]
  },
  {
   "cell_type": "code",
   "execution_count": 105,
   "id": "299547fe-0988-4eeb-b905-ae80151235c0",
   "metadata": {},
   "outputs": [
    {
     "data": {
      "image/png": "[encoded data removed]",
      "text/plain": [
       "<Figure size 1000x1000 with 1 Axes>"
      ]
     },
     "metadata": {},
     "output_type": "display_data"
    }
   ],
   "source": [
    "plt.figure(figsize= (10,10))\n",
    "plt.plot(x_data, y_data, 'bo', label='Real data')\n",
    "plt.plot(x_data, x_data * w_out + b_out, 'ro', label='Prediction')\n",
    "plt.legend()\n",
    "plt.show()"
   ]
  },
  {
   "cell_type": "markdown",
   "id": "7f06a601-b2fd-4f28-98fb-ce850b9de14a",
   "metadata": {},
   "source": [
    "# 04 - 2-Layer Neural-Network 1"
   ]
  },
  {
   "cell_type": "code",
   "execution_count": 107,
   "id": "d89b5f03-46f5-4411-b1b5-ff867ea72610",
   "metadata": {},
   "outputs": [],
   "source": [
    "import tensorflow.compat.v1 as tf\n",
    "tf.disable_v2_behavior()\n",
    "\n",
    "import pandas as pd\n",
    "import numpy as np\n",
    "import matplotlib.pyplot as plt\n",
    "from sklearn import datasets"
   ]
  },
  {
   "cell_type": "code",
   "execution_count": 108,
   "id": "3449a4db-2c46-402f-a0ef-62b78f3fd047",
   "metadata": {},
   "outputs": [
    {
     "data": {
      "text/html": [
       "<div>\n",
       "<style scoped>\n",
       "    .dataframe tbody tr th:only-of-type {\n",
       "        vertical-align: middle;\n",
       "    }\n",
       "\n",
       "    .dataframe tbody tr th {\n",
       "        vertical-align: top;\n",
       "    }\n",
       "\n",
       "    .dataframe thead th {\n",
       "        text-align: right;\n",
       "    }\n",
       "</style>\n",
       "<table border=\"1\" class=\"dataframe\">\n",
       "  <thead>\n",
       "    <tr style=\"text-align: right;\">\n",
       "      <th></th>\n",
       "      <th>LSTAT</th>\n",
       "      <th>MEDV</th>\n",
       "    </tr>\n",
       "  </thead>\n",
       "  <tbody>\n",
       "    <tr>\n",
       "      <th>0</th>\n",
       "      <td>4.98</td>\n",
       "      <td>24.0</td>\n",
       "    </tr>\n",
       "    <tr>\n",
       "      <th>1</th>\n",
       "      <td>9.14</td>\n",
       "      <td>21.6</td>\n",
       "    </tr>\n",
       "    <tr>\n",
       "      <th>2</th>\n",
       "      <td>4.03</td>\n",
       "      <td>34.7</td>\n",
       "    </tr>\n",
       "    <tr>\n",
       "      <th>3</th>\n",
       "      <td>2.94</td>\n",
       "      <td>33.4</td>\n",
       "    </tr>\n",
       "    <tr>\n",
       "      <th>4</th>\n",
       "      <td>5.33</td>\n",
       "      <td>36.2</td>\n",
       "    </tr>\n",
       "  </tbody>\n",
       "</table>\n",
       "</div>"
      ],
      "text/plain": [
       "   LSTAT  MEDV\n",
       "0   4.98  24.0\n",
       "1   9.14  21.6\n",
       "2   4.03  34.7\n",
       "3   2.94  33.4\n",
       "4   5.33  36.2"
      ]
     },
     "execution_count": 108,
     "metadata": {},
     "output_type": "execute_result"
    }
   ],
   "source": [
    "x_data = datasets.fetch_openml(name='boston',version=1).data.iloc[:,12]\n",
    "y_data = datasets.fetch_openml(name='boston',version=1).target\n",
    "\n",
    "df = pd.DataFrame([x_data,y_data]).transpose()\n",
    "df.head()"
   ]
  },
  {
   "cell_type": "code",
   "execution_count": 111,
   "id": "609cd492-c7f0-42ae-9bb5-d9d05031df94",
   "metadata": {},
   "outputs": [],
   "source": [
    "_x_data = tf.reshape(x_data, [len(x_data),1]) # 506행 1열\n",
    "\n",
    "W = tf.Variable(tf.random_normal([1,5], dtype=tf.float64)) # 1행 5열\n",
    "W_out = tf.Variable(tf.random_normal([5,1], dtype=tf.float64)) # 5행 1열\n",
    "\n",
    "hidden = tf.nn.sigmoid(tf.matmul(_x_data, W)) # 506행 5열\n",
    "output = tf.matmul(hidden, W_out) # 506행 1열"
   ]
  },
  {
   "cell_type": "code",
   "execution_count": 113,
   "id": "49ee05cf-b191-46e4-91a0-7e530d3100cd",
   "metadata": {},
   "outputs": [],
   "source": [
    "loss = tf.reduce_mean(tf.square(output - y_data))\n",
    "optimizer = tf.train.GradientDescentOptimizer(0.001)\n",
    "train = optimizer.minimize(loss)"
   ]
  },
  {
   "cell_type": "code",
   "execution_count": 114,
   "id": "16eec561-c96c-4efc-8b44-17952b6710ee",
   "metadata": {},
   "outputs": [
    {
     "name": "stdout",
     "output_type": "stream",
     "text": [
      "Step 0 || Loss : 635.3696832300408\n",
      "Step 5000 || Loss : 84.45979477839795\n",
      "Step 10000 || Loss : 84.44359592986544\n",
      "Step 15000 || Loss : 84.43693789056368\n",
      "Step 20000 || Loss : 84.43325293425167\n",
      "Step 25000 || Loss : 84.43089561840097\n",
      "Step 30000 || Loss : 84.42925088076043\n",
      "Step 35000 || Loss : 84.42803467483232\n",
      "Step 40000 || Loss : 84.4270970392462\n",
      "Step 45000 || Loss : 84.42635107316485\n"
     ]
    }
   ],
   "source": [
    "with tf.Session() as sess:\n",
    "    sess.run(tf.global_variables_initializer())\n",
    "\n",
    "    for step in range(50000):\n",
    "        sess.run(train)\n",
    "        if step % 5000 == 0:\n",
    "            print('Step {} || Loss : {}'.format(step, sess.run(loss)))\n",
    "\n",
    "    output = sess.run(output)"
   ]
  },
  {
   "cell_type": "code",
   "execution_count": 116,
   "id": "d856aef4-0ff0-4ec5-b28f-39d045381a5e",
   "metadata": {},
   "outputs": [
    {
     "data": {
      "image/png": "[encoded data removed]",
      "text/plain": [
       "<Figure size 1000x1000 with 1 Axes>"
      ]
     },
     "metadata": {},
     "output_type": "display_data"
    }
   ],
   "source": [
    "plt.figure(figsize=(10,10))\n",
    "plt.plot(x_data, y_data, 'bo', label='Real data')\n",
    "plt.plot(x_data, output, 'ro', label='Prediction')\n",
    "plt.legend()\n",
    "plt.show()"
   ]
  },
  {
   "cell_type": "code",
   "execution_count": null,
   "id": "00af9071-4ecd-4a14-8057-4d92fd882bc7",
   "metadata": {},
   "outputs": [],
   "source": []
  },
  {
   "cell_type": "code",
   "execution_count": null,
   "id": "7ef3d7aa-a003-42c3-98ed-34fdd1a47551",
   "metadata": {},
   "outputs": [],
   "source": [
    "# hidden layer 추가"
   ]
  },
  {
   "cell_type": "code",
   "execution_count": 126,
   "id": "e15a785b-137e-4449-a38f-8429c2bb79af",
   "metadata": {},
   "outputs": [],
   "source": [
    "_x_data = tf.reshape(x_data, [len(x_data),1]) # 506행 1열\n",
    "_y_data = tf.reshape(y_data, [len(y_data),1]) \n",
    "\n",
    "W1 = tf.Variable(tf.random_normal([1,5], dtype=tf.float64)) # 1행 5열\n",
    "W2 = tf.Variable(tf.random_normal([5,10], dtype=tf.float64)) # 5행 10열\n",
    "W_out = tf.Variable(tf.random_normal([10,1], dtype=tf.float64)) # 10행 1열\n",
    "\n",
    "hidden1 = tf.nn.elu(tf.matmul(_x_data, W1)) # 506행 5열\n",
    "hidden2 = tf.nn.elu(tf.matmul(hidden1, W2)) # 506행 10열\n",
    "output = tf.matmul(hidden2, W_out) # 506행 1열"
   ]
  },
  {
   "cell_type": "code",
   "execution_count": 127,
   "id": "d4633650-fc36-47a0-b73e-b48d6f2ce749",
   "metadata": {},
   "outputs": [],
   "source": [
    "# loss = tf.reduce_mean(tf.square(output - y_data))\n",
    "loss = tf.losses.mean_squared_error(output, _y_data)\n",
    "\n",
    "optimizer = tf.train.AdamOptimizer(0.001)\n",
    "train = optimizer.minimize(loss)"
   ]
  },
  {
   "cell_type": "code",
   "execution_count": 128,
   "id": "8828015b-44c0-400f-a8d6-3e5c7081d4eb",
   "metadata": {},
   "outputs": [
    {
     "name": "stdout",
     "output_type": "stream",
     "text": [
      "Step 0 || Loss : 2500.126708984375\n",
      "Step 5000 || Loss : 32.213253021240234\n",
      "Step 10000 || Loss : 27.440462112426758\n",
      "Step 15000 || Loss : 27.28797721862793\n",
      "Step 20000 || Loss : 27.085315704345703\n",
      "Step 25000 || Loss : 26.656949996948242\n",
      "Step 30000 || Loss : 26.47324562072754\n",
      "Step 35000 || Loss : 26.40346908569336\n",
      "Step 40000 || Loss : 26.363052368164062\n",
      "Step 45000 || Loss : 26.343629837036133\n"
     ]
    }
   ],
   "source": [
    "with tf.Session() as sess:\n",
    "    sess.run(tf.global_variables_initializer())\n",
    "\n",
    "    for step in range(50000):\n",
    "        sess.run(train)\n",
    "        if step % 5000 == 0:\n",
    "            print(\"Step {} || Loss : {}\".format(step, sess.run(loss)))\n",
    "\n",
    "    output = sess.run(output)"
   ]
  },
  {
   "cell_type": "code",
   "execution_count": 129,
   "id": "3f31745f-c808-40ff-8410-a49198b2c9cd",
   "metadata": {},
   "outputs": [
    {
     "data": {
      "image/png": "[encoded data removed]",
      "text/plain": [
       "<Figure size 1000x1000 with 1 Axes>"
      ]
     },
     "metadata": {},
     "output_type": "display_data"
    }
   ],
   "source": [
    "plt.figure(figsize=(10,10))\n",
    "plt.plot(x_data, y_data, 'bo', label='Real data')\n",
    "plt.plot(x_data, output, 'ro', label='Prediction')\n",
    "plt.legend()\n",
    "plt.show()"
   ]
  },
  {
   "cell_type": "code",
   "execution_count": null,
   "id": "69241528-06cc-4741-a633-53a7e4647ca1",
   "metadata": {},
   "outputs": [],
   "source": []
  },
  {
   "cell_type": "markdown",
   "id": "d4bff2e6-a990-48e7-91b6-46d557b85f5e",
   "metadata": {},
   "source": [
    "# 08 - Classification"
   ]
  },
  {
   "cell_type": "code",
   "execution_count": 130,
   "id": "93d9e910-5f15-4341-94dd-f19e674cc0c6",
   "metadata": {},
   "outputs": [
    {
     "name": "stdout",
     "output_type": "stream",
     "text": [
      "Downloading data from https://storage.googleapis.com/tensorflow/tf-keras-datasets/mnist.npz\n",
      "\u001b[1m11490434/11490434\u001b[0m \u001b[32m━━━━━━━━━━━━━━━━━━━━\u001b[0m\u001b[37m\u001b[0m \u001b[1m1s\u001b[0m 0us/step\n"
     ]
    }
   ],
   "source": [
    "from tensorflow.keras import datasets\n",
    "\n",
    "(train_data, train_label), (test_data, test_label) = datasets.mnist.load_data()"
   ]
  },
  {
   "cell_type": "code",
   "execution_count": 133,
   "id": "811b0a6f-f2b2-4e6d-8fd6-648269d17d64",
   "metadata": {},
   "outputs": [
    {
     "name": "stdout",
     "output_type": "stream",
     "text": [
      "(60000, 28, 28)\n",
      "(10000, 28, 28)\n"
     ]
    }
   ],
   "source": [
    "print(train_data.shape)\n",
    "print(test_data.shape)"
   ]
  },
  {
   "cell_type": "code",
   "execution_count": 134,
   "id": "e77495ae-0385-4002-8b91-f1fd7d86d5f2",
   "metadata": {},
   "outputs": [
    {
     "name": "stdout",
     "output_type": "stream",
     "text": [
      "(60000,)\n",
      "(10000,)\n"
     ]
    }
   ],
   "source": [
    "print(train_label.shape)\n",
    "print(test_label.shape)"
   ]
  },
  {
   "cell_type": "code",
   "execution_count": 135,
   "id": "87b496a0-5b70-4b14-ad62-75f872a4953c",
   "metadata": {},
   "outputs": [
    {
     "data": {
      "text/plain": [
       "array([5, 0, 4, ..., 5, 6, 8], dtype=uint8)"
      ]
     },
     "execution_count": 135,
     "metadata": {},
     "output_type": "execute_result"
    }
   ],
   "source": [
    "train_label"
   ]
  },
  {
   "cell_type": "code",
   "execution_count": 137,
   "id": "446cd419-c3c0-434e-b5c9-91d93e8b4419",
   "metadata": {},
   "outputs": [
    {
     "data": {
      "text/plain": [
       "(28, 28)"
      ]
     },
     "execution_count": 137,
     "metadata": {},
     "output_type": "execute_result"
    }
   ],
   "source": [
    "train_data[0].shape"
   ]
  },
  {
   "cell_type": "code",
   "execution_count": 139,
   "id": "6d4f51bc-7d87-4476-be80-bbce2171bcea",
   "metadata": {},
   "outputs": [
    {
     "data": {
      "text/plain": [
       "<matplotlib.image.AxesImage at 0x304b5d910>"
      ]
     },
     "execution_count": 139,
     "metadata": {},
     "output_type": "execute_result"
    },
    {
     "data": {
      "image/png": "[encoded data removed]",
      "text/plain": [
       "<Figure size 640x480 with 1 Axes>"
      ]
     },
     "metadata": {},
     "output_type": "display_data"
    }
   ],
   "source": [
    "import matplotlib.pyplot as plt\n",
    "\n",
    "plt.imshow(train_data[0], cmap='gray')"
   ]
  },
  {
   "cell_type": "code",
   "execution_count": 141,
   "id": "26ca297b-7f86-4754-89c8-7d68a2f342ad",
   "metadata": {},
   "outputs": [
    {
     "name": "stdout",
     "output_type": "stream",
     "text": [
      "0\n",
      "255\n"
     ]
    }
   ],
   "source": [
    "print(train_data.min())\n",
    "print(train_data.max())"
   ]
  },
  {
   "cell_type": "code",
   "execution_count": 144,
   "id": "4461bc4f-34d2-44af-ad19-9fb3153ce03c",
   "metadata": {},
   "outputs": [],
   "source": [
    "# 각 이미지 28 x 28 -> 1 x 784\n",
    "# 각 픽셀 0 ~ 255 -> 0 ~ 1\n",
    "\n",
    "train_data = train_data.reshape(60000, 28*28) / 255.0\n",
    "test_data = test_data.reshape(10000, 28*28) / 255.0"
   ]
  },
  {
   "cell_type": "code",
   "execution_count": 145,
   "id": "205be9da-2996-4ab7-817c-cc73acf1036d",
   "metadata": {},
   "outputs": [
    {
     "data": {
      "text/plain": [
       "(60000, 784)"
      ]
     },
     "execution_count": 145,
     "metadata": {},
     "output_type": "execute_result"
    }
   ],
   "source": [
    "train_data.shape"
   ]
  },
  {
   "cell_type": "code",
   "execution_count": null,
   "id": "09044fd0-0546-40f3-b465-f3516ce0e919",
   "metadata": {},
   "outputs": [],
   "source": []
  },
  {
   "cell_type": "code",
   "execution_count": 146,
   "id": "d3aabab3-01d9-4fb6-bdc7-1e47340b4dde",
   "metadata": {},
   "outputs": [],
   "source": [
    "#  One-hot encoding"
   ]
  },
  {
   "cell_type": "code",
   "execution_count": 147,
   "id": "f19379fb-b189-462a-b99c-f299ad87d49d",
   "metadata": {},
   "outputs": [
    {
     "data": {
      "text/plain": [
       "array([5, 0, 4, ..., 5, 6, 8], dtype=uint8)"
      ]
     },
     "execution_count": 147,
     "metadata": {},
     "output_type": "execute_result"
    }
   ],
   "source": [
    "train_label"
   ]
  },
  {
   "cell_type": "code",
   "execution_count": 148,
   "id": "96ccdc0b-e719-4246-bd40-cb0c5c7b9720",
   "metadata": {},
   "outputs": [],
   "source": [
    "from tensorflow.keras import utils\n",
    "\n",
    "train_label = utils.to_categorical(train_label)\n",
    "test_label = utils.to_categorical(test_label)"
   ]
  },
  {
   "cell_type": "code",
   "execution_count": 149,
   "id": "ae5ff184-77ac-4f7d-bbad-2060486fb27b",
   "metadata": {},
   "outputs": [
    {
     "data": {
      "text/plain": [
       "array([[0., 0., 0., ..., 0., 0., 0.],\n",
       "       [1., 0., 0., ..., 0., 0., 0.],\n",
       "       [0., 0., 0., ..., 0., 0., 0.],\n",
       "       ...,\n",
       "       [0., 0., 0., ..., 0., 0., 0.],\n",
       "       [0., 0., 0., ..., 0., 0., 0.],\n",
       "       [0., 0., 0., ..., 0., 1., 0.]])"
      ]
     },
     "execution_count": 149,
     "metadata": {},
     "output_type": "execute_result"
    }
   ],
   "source": [
    "train_label"
   ]
  },
  {
   "cell_type": "code",
   "execution_count": 150,
   "id": "7c104b39-f9a3-49da-a088-fbd27cbd05aa",
   "metadata": {},
   "outputs": [
    {
     "data": {
      "text/html": [
       "<div>\n",
       "<style scoped>\n",
       "    .dataframe tbody tr th:only-of-type {\n",
       "        vertical-align: middle;\n",
       "    }\n",
       "\n",
       "    .dataframe tbody tr th {\n",
       "        vertical-align: top;\n",
       "    }\n",
       "\n",
       "    .dataframe thead th {\n",
       "        text-align: right;\n",
       "    }\n",
       "</style>\n",
       "<table border=\"1\" class=\"dataframe\">\n",
       "  <thead>\n",
       "    <tr style=\"text-align: right;\">\n",
       "      <th></th>\n",
       "      <th>0</th>\n",
       "      <th>1</th>\n",
       "      <th>2</th>\n",
       "      <th>3</th>\n",
       "      <th>4</th>\n",
       "      <th>5</th>\n",
       "      <th>6</th>\n",
       "      <th>7</th>\n",
       "      <th>8</th>\n",
       "      <th>9</th>\n",
       "    </tr>\n",
       "  </thead>\n",
       "  <tbody>\n",
       "    <tr>\n",
       "      <th>0</th>\n",
       "      <td>0.0</td>\n",
       "      <td>0.0</td>\n",
       "      <td>0.0</td>\n",
       "      <td>0.0</td>\n",
       "      <td>0.0</td>\n",
       "      <td>1.0</td>\n",
       "      <td>0.0</td>\n",
       "      <td>0.0</td>\n",
       "      <td>0.0</td>\n",
       "      <td>0.0</td>\n",
       "    </tr>\n",
       "    <tr>\n",
       "      <th>1</th>\n",
       "      <td>1.0</td>\n",
       "      <td>0.0</td>\n",
       "      <td>0.0</td>\n",
       "      <td>0.0</td>\n",
       "      <td>0.0</td>\n",
       "      <td>0.0</td>\n",
       "      <td>0.0</td>\n",
       "      <td>0.0</td>\n",
       "      <td>0.0</td>\n",
       "      <td>0.0</td>\n",
       "    </tr>\n",
       "    <tr>\n",
       "      <th>2</th>\n",
       "      <td>0.0</td>\n",
       "      <td>0.0</td>\n",
       "      <td>0.0</td>\n",
       "      <td>0.0</td>\n",
       "      <td>1.0</td>\n",
       "      <td>0.0</td>\n",
       "      <td>0.0</td>\n",
       "      <td>0.0</td>\n",
       "      <td>0.0</td>\n",
       "      <td>0.0</td>\n",
       "    </tr>\n",
       "  </tbody>\n",
       "</table>\n",
       "</div>"
      ],
      "text/plain": [
       "     0    1    2    3    4    5    6    7    8    9\n",
       "0  0.0  0.0  0.0  0.0  0.0  1.0  0.0  0.0  0.0  0.0\n",
       "1  1.0  0.0  0.0  0.0  0.0  0.0  0.0  0.0  0.0  0.0\n",
       "2  0.0  0.0  0.0  0.0  1.0  0.0  0.0  0.0  0.0  0.0"
      ]
     },
     "execution_count": 150,
     "metadata": {},
     "output_type": "execute_result"
    }
   ],
   "source": [
    "import pandas as pd\n",
    "\n",
    "pd.DataFrame(train_label).head(3)"
   ]
  },
  {
   "cell_type": "code",
   "execution_count": 151,
   "id": "852d85b8-f8f3-47e3-add7-cbcae04ea4b6",
   "metadata": {},
   "outputs": [
    {
     "data": {
      "text/plain": [
       "array([0., 0., 0., 0., 0., 1., 0., 0., 0., 0.])"
      ]
     },
     "execution_count": 151,
     "metadata": {},
     "output_type": "execute_result"
    }
   ],
   "source": [
    "train_label[0]"
   ]
  },
  {
   "cell_type": "code",
   "execution_count": null,
   "id": "ec02deb4-4f4f-4d7f-8e32-9260bc00a2af",
   "metadata": {},
   "outputs": [],
   "source": []
  },
  {
   "cell_type": "code",
   "execution_count": 152,
   "id": "3868aa30-5049-4df9-8392-89fc2ada3b37",
   "metadata": {},
   "outputs": [],
   "source": [
    "# Build the model"
   ]
  },
  {
   "cell_type": "code",
   "execution_count": 153,
   "id": "0e92a68d-af91-4caf-b43c-0c34b2f6cfa4",
   "metadata": {},
   "outputs": [],
   "source": [
    "import tensorflow.compat.v1 as tf\n",
    "tf.disable_v2_behavior()\n",
    "\n",
    "import os\n",
    "os.environ['TF_CPP_MIN_LOG_LEVEL'] = '2'\n",
    "tf.logging.set_verbosity(tf.logging.ERROR)"
   ]
  },
  {
   "cell_type": "code",
   "execution_count": 154,
   "id": "7cf1e346-d7e8-4915-9fc2-eb9e46b2fad9",
   "metadata": {},
   "outputs": [],
   "source": [
    "X = tf.placeholder(tf.float32, [None, 784]) # 28 x 28\n",
    "Y = tf.placeholder(tf.float32, [None, 10]) # 0 ~ 9"
   ]
  },
  {
   "cell_type": "code",
   "execution_count": 163,
   "id": "4fe441d0-5faf-48dc-8798-50af7c07d517",
   "metadata": {},
   "outputs": [],
   "source": [
    "W1 = tf.Variable(tf.random_normal([784, 256], stddev=0.01)) # 256 == hidden layer node 수\n",
    "L1 = tf.nn.relu(tf.matmul(X, W1))"
   ]
  },
  {
   "cell_type": "code",
   "execution_count": 165,
   "id": "3a2d0c73-40c1-4304-adb3-e24b61c374a5",
   "metadata": {},
   "outputs": [],
   "source": [
    "W2 = tf.Variable(tf.random_normal([256, 256], stddev=0.01))\n",
    "L2 = tf.nn.relu(tf.matmul(L1, W2))"
   ]
  },
  {
   "cell_type": "code",
   "execution_count": 167,
   "id": "df6b82d1-0403-457b-87e9-11719848bdb0",
   "metadata": {},
   "outputs": [],
   "source": [
    "W3 = tf.Variable(tf.random_normal([256, 10], stddev=0.01))\n",
    "model = tf.matmul(L2, W3) # 마지막 층"
   ]
  },
  {
   "cell_type": "code",
   "execution_count": 168,
   "id": "7ae8c2ee-ac1a-4e2f-b5f9-f04d50fd89df",
   "metadata": {},
   "outputs": [],
   "source": [
    "# cost = tf.losses.mean_squared_error(Y, model) # 회귀 분석\n",
    "\n",
    "cost = tf.losses.softmax_cross_entropy(Y, model) # 분류\n",
    "\n",
    "optimizer = tf.train.AdamOptimizer(0.001).minimize(cost)"
   ]
  },
  {
   "cell_type": "code",
   "execution_count": null,
   "id": "74c8faf3-6f42-422c-b992-c9d50b64c70a",
   "metadata": {},
   "outputs": [],
   "source": []
  },
  {
   "cell_type": "code",
   "execution_count": 194,
   "id": "e69c9108-dc0b-4054-a2b3-42d8d843a780",
   "metadata": {},
   "outputs": [],
   "source": [
    "# train 시작"
   ]
  },
  {
   "cell_type": "code",
   "execution_count": null,
   "id": "3ffb2193-539b-46e3-b145-24abaada1c1a",
   "metadata": {},
   "outputs": [],
   "source": []
  },
  {
   "cell_type": "code",
   "execution_count": 171,
   "id": "e67f9757-d5ee-4609-9004-ccc9d0661f93",
   "metadata": {},
   "outputs": [],
   "source": [
    "init = tf.global_variables_initializer()\n",
    "sess = tf.Session() # 원래는 with문으로 해야함\n",
    "sess.run(init)"
   ]
  },
  {
   "cell_type": "code",
   "execution_count": 195,
   "id": "0e0417a7-f258-4c6a-9a78-50fdec7363aa",
   "metadata": {},
   "outputs": [
    {
     "name": "stdout",
     "output_type": "stream",
     "text": [
      "600\n"
     ]
    }
   ],
   "source": [
    "batch_size = 100 # 100행씩\n",
    "total_batch = int(len(train_data) / batch_size)\n",
    "print(total_batch)"
   ]
  },
  {
   "cell_type": "code",
   "execution_count": 196,
   "id": "805a791d-5fc7-42f7-8d9a-b7a3919552ad",
   "metadata": {},
   "outputs": [
    {
     "name": "stderr",
     "output_type": "stream",
     "text": [
      "  7%|██▉                                         | 1/15 [00:02<00:30,  2.17s/it]"
     ]
    },
    {
     "name": "stdout",
     "output_type": "stream",
     "text": [
      "Epoch: 1 || Avg. Training cost = 0.077 || Current Test cost = 0.105\n"
     ]
    },
    {
     "name": "stderr",
     "output_type": "stream",
     "text": [
      " 13%|█████▊                                      | 2/15 [00:04<00:26,  2.03s/it]"
     ]
    },
    {
     "name": "stdout",
     "output_type": "stream",
     "text": [
      "Epoch: 2 || Avg. Training cost = 0.070 || Current Test cost = 0.101\n"
     ]
    },
    {
     "name": "stderr",
     "output_type": "stream",
     "text": [
      " 20%|████████▊                                   | 3/15 [00:06<00:23,  1.97s/it]"
     ]
    },
    {
     "name": "stdout",
     "output_type": "stream",
     "text": [
      "Epoch: 3 || Avg. Training cost = 0.064 || Current Test cost = 0.098\n"
     ]
    },
    {
     "name": "stderr",
     "output_type": "stream",
     "text": [
      " 27%|███████████▋                                | 4/15 [00:07<00:20,  1.86s/it]"
     ]
    },
    {
     "name": "stdout",
     "output_type": "stream",
     "text": [
      "Epoch: 4 || Avg. Training cost = 0.059 || Current Test cost = 0.096\n"
     ]
    },
    {
     "name": "stderr",
     "output_type": "stream",
     "text": [
      " 33%|██████████████▋                             | 5/15 [00:09<00:18,  1.81s/it]"
     ]
    },
    {
     "name": "stdout",
     "output_type": "stream",
     "text": [
      "Epoch: 5 || Avg. Training cost = 0.053 || Current Test cost = 0.094\n"
     ]
    },
    {
     "name": "stderr",
     "output_type": "stream",
     "text": [
      " 40%|█████████████████▌                          | 6/15 [00:11<00:18,  2.01s/it]"
     ]
    },
    {
     "name": "stdout",
     "output_type": "stream",
     "text": [
      "Epoch: 6 || Avg. Training cost = 0.049 || Current Test cost = 0.092\n"
     ]
    },
    {
     "name": "stderr",
     "output_type": "stream",
     "text": [
      " 47%|████████████████████▌                       | 7/15 [00:13<00:15,  1.90s/it]"
     ]
    },
    {
     "name": "stdout",
     "output_type": "stream",
     "text": [
      "Epoch: 7 || Avg. Training cost = 0.044 || Current Test cost = 0.091\n"
     ]
    },
    {
     "name": "stderr",
     "output_type": "stream",
     "text": [
      " 53%|███████████████████████▍                    | 8/15 [00:15<00:12,  1.82s/it]"
     ]
    },
    {
     "name": "stdout",
     "output_type": "stream",
     "text": [
      "Epoch: 8 || Avg. Training cost = 0.040 || Current Test cost = 0.091\n"
     ]
    },
    {
     "name": "stderr",
     "output_type": "stream",
     "text": [
      " 60%|██████████████████████████▍                 | 9/15 [00:16<00:10,  1.77s/it]"
     ]
    },
    {
     "name": "stdout",
     "output_type": "stream",
     "text": [
      "Epoch: 9 || Avg. Training cost = 0.037 || Current Test cost = 0.090\n"
     ]
    },
    {
     "name": "stderr",
     "output_type": "stream",
     "text": [
      " 67%|████████████████████████████▋              | 10/15 [00:18<00:08,  1.75s/it]"
     ]
    },
    {
     "name": "stdout",
     "output_type": "stream",
     "text": [
      "Epoch: 10 || Avg. Training cost = 0.033 || Current Test cost = 0.090\n"
     ]
    },
    {
     "name": "stderr",
     "output_type": "stream",
     "text": [
      " 73%|███████████████████████████████▌           | 11/15 [00:20<00:06,  1.70s/it]"
     ]
    },
    {
     "name": "stdout",
     "output_type": "stream",
     "text": [
      "Epoch: 11 || Avg. Training cost = 0.030 || Current Test cost = 0.090\n"
     ]
    },
    {
     "name": "stderr",
     "output_type": "stream",
     "text": [
      " 80%|██████████████████████████████████▍        | 12/15 [00:21<00:05,  1.67s/it]"
     ]
    },
    {
     "name": "stdout",
     "output_type": "stream",
     "text": [
      "Epoch: 12 || Avg. Training cost = 0.027 || Current Test cost = 0.091\n"
     ]
    },
    {
     "name": "stderr",
     "output_type": "stream",
     "text": [
      " 87%|█████████████████████████████████████▎     | 13/15 [00:23<00:03,  1.67s/it]"
     ]
    },
    {
     "name": "stdout",
     "output_type": "stream",
     "text": [
      "Epoch: 13 || Avg. Training cost = 0.024 || Current Test cost = 0.092\n"
     ]
    },
    {
     "name": "stderr",
     "output_type": "stream",
     "text": [
      " 93%|████████████████████████████████████████▏  | 14/15 [00:25<00:01,  1.71s/it]"
     ]
    },
    {
     "name": "stdout",
     "output_type": "stream",
     "text": [
      "Epoch: 14 || Avg. Training cost = 0.022 || Current Test cost = 0.093\n"
     ]
    },
    {
     "name": "stderr",
     "output_type": "stream",
     "text": [
      "100%|███████████████████████████████████████████| 15/15 [00:26<00:00,  1.80s/it]"
     ]
    },
    {
     "name": "stdout",
     "output_type": "stream",
     "text": [
      "Epoch: 15 || Avg. Training cost = 0.020 || Current Test cost = 0.094\n",
      "Learning process is completed!\n"
     ]
    },
    {
     "name": "stderr",
     "output_type": "stream",
     "text": [
      "\n"
     ]
    }
   ],
   "source": [
    "import tqdm\n",
    "\n",
    "# 전체 iteration 수 == Gradient descent 횟수 == 15 * 600 == 9000번\n",
    "\n",
    "for epoch in tqdm.tqdm(range(15)):\n",
    "\n",
    "    total_cost = 0 # epoch마다 평균 에러 값 계산용\n",
    "    batch_idx = 0 # batch마다 꺼낼 데이터의 시작 인덱스 값\n",
    "\n",
    "    for i in range(total_batch):\n",
    "        # batch size(100행)만큼\n",
    "        batch_x = train_data[ batch_idx: batch_idx + batch_size ]\n",
    "        batch_y = train_label[ batch_idx : batch_idx + batch_size ]\n",
    "\n",
    "        sess.run(optimizer, feed_dict={X: batch_x, Y: batch_y}) # 데이터 밀어넣기\n",
    "\n",
    "        # cross entropy 값 추가 (epoch 끝나고 평균 계산용)\n",
    "        batch_cost = sess.run(cost, feed_dict={X: batch_x, Y: batch_y})\n",
    "        total_cost = total_cost + batch_cost\n",
    "\n",
    "        # next iteration\n",
    "        batch_idx += batch_size\n",
    "\n",
    "    # 한 epoch 끝난 시점\n",
    "    training_cost = total_cost / total_batch # cross entropy 계산 (600으로 나눈 평균)\n",
    "\n",
    "    test_cost = sess.run(cost, feed_dict={X: test_data, Y: test_label}) # test data 기준 cross entropy\n",
    "\n",
    "    print('Epoch: {}'.format(epoch + 1),\n",
    "          '|| Avg. Training cost = {:.3f}'.format(training_cost),\n",
    "          '|| Current Test cost = {:.3f}'.format(test_cost))\n",
    "\n",
    "print('Learning process is completed!')\n",
    "    \n",
    "    "
   ]
  },
  {
   "cell_type": "code",
   "execution_count": null,
   "id": "8c04553f-883d-4b51-9cb3-051e8858d771",
   "metadata": {},
   "outputs": [],
   "source": []
  },
  {
   "cell_type": "code",
   "execution_count": 182,
   "id": "0ce985d8-9eb4-40ed-af4b-7b664510fb46",
   "metadata": {},
   "outputs": [],
   "source": [
    "# Test the model"
   ]
  },
  {
   "cell_type": "code",
   "execution_count": null,
   "id": "5c84673b-5b0d-497b-aadc-80b2993c95e3",
   "metadata": {},
   "outputs": [],
   "source": []
  },
  {
   "cell_type": "code",
   "execution_count": 183,
   "id": "1eabba7c-4560-464d-b256-133dd1c49af4",
   "metadata": {},
   "outputs": [
    {
     "data": {
      "text/plain": [
       "(10000, 784)"
      ]
     },
     "execution_count": 183,
     "metadata": {},
     "output_type": "execute_result"
    }
   ],
   "source": [
    "test_data.shape"
   ]
  },
  {
   "cell_type": "code",
   "execution_count": 186,
   "id": "e6f40aea-80a2-4539-a1d3-69b2fe6c50cb",
   "metadata": {},
   "outputs": [
    {
     "data": {
      "text/plain": [
       "(1, 784)"
      ]
     },
     "execution_count": 186,
     "metadata": {},
     "output_type": "execute_result"
    }
   ],
   "source": [
    "# 첫 행 꺼내기 == 이미지 한 장 꺼내기\n",
    "test_data[0:1, :].shape"
   ]
  },
  {
   "cell_type": "code",
   "execution_count": 197,
   "id": "53c83065-8e12-4de9-815a-395a16a7d399",
   "metadata": {},
   "outputs": [
    {
     "data": {
      "text/plain": [
       "array([[ -8.561029 ,  -9.800459 ,  -1.4342799,   1.1588082, -22.056238 ,\n",
       "        -12.601114 , -31.626274 ,  14.057189 ,  -1.6290494,  -1.2048848]],\n",
       "      dtype=float32)"
      ]
     },
     "execution_count": 197,
     "metadata": {},
     "output_type": "execute_result"
    }
   ],
   "source": [
    "sess.run(model, feed_dict={X: test_data[0:1, :]})"
   ]
  },
  {
   "cell_type": "code",
   "execution_count": 198,
   "id": "a8cfc59f-6792-4c0c-9c81-dabb5eb7849d",
   "metadata": {},
   "outputs": [
    {
     "data": {
      "text/plain": [
       "array([7])"
      ]
     },
     "execution_count": 198,
     "metadata": {},
     "output_type": "execute_result"
    }
   ],
   "source": [
    "import numpy as np\n",
    "\n",
    "np.argmax(sess.run(model, feed_dict={X: test_data[0:1, :]}), axis=1)"
   ]
  },
  {
   "cell_type": "code",
   "execution_count": 199,
   "id": "1c96add3-f2a9-47ea-9e62-90789ba48916",
   "metadata": {},
   "outputs": [
    {
     "data": {
      "text/plain": [
       "array([7])"
      ]
     },
     "execution_count": 199,
     "metadata": {},
     "output_type": "execute_result"
    }
   ],
   "source": [
    "# 10개 숫자 중 첫 행의 가장 큰 값의 index 얻기 (argmax와 동일)\n",
    "sess.run(tf.argmax(model, 1), feed_dict={X: test_data[0:1, :]})"
   ]
  },
  {
   "cell_type": "code",
   "execution_count": 200,
   "id": "82f8adfd-c9c6-4008-a160-cb849eae6d51",
   "metadata": {},
   "outputs": [
    {
     "data": {
      "text/plain": [
       "array([7])"
      ]
     },
     "execution_count": 200,
     "metadata": {},
     "output_type": "execute_result"
    }
   ],
   "source": [
    "np.argmax(test_label[0:1, :],axis=1)"
   ]
  },
  {
   "cell_type": "code",
   "execution_count": null,
   "id": "8fcfd0c1-0854-4a8a-91bd-337152e0acc5",
   "metadata": {},
   "outputs": [],
   "source": []
  },
  {
   "cell_type": "code",
   "execution_count": 201,
   "id": "5e7f6c53-189e-462d-a6c0-8e1dfd712d5d",
   "metadata": {},
   "outputs": [],
   "source": [
    "# 정확도 계산"
   ]
  },
  {
   "cell_type": "code",
   "execution_count": null,
   "id": "39523300-71a6-41dd-af98-f115889da38a",
   "metadata": {},
   "outputs": [],
   "source": []
  },
  {
   "cell_type": "code",
   "execution_count": 202,
   "id": "974ba6b0-3671-4a47-b3eb-39c09553f616",
   "metadata": {},
   "outputs": [],
   "source": [
    "# tf.argmax(model, 1)   -> [1, 1, 0, 0]\n",
    "# tf.argmax(Y, 1)       -> [1, 0, 1, 0]\n",
    "# tf.equal(..., ...)    -> [True, False, False, True]\n",
    "# tf.cast(...)          -> [1.0, 0.0, 0.0, 1.0]    형 변환\n",
    "# tf.reduce_mean(...)   -> 0.5   평균\n",
    "\n",
    "is_correct = tf.equal(tf.argmax(model, 1), tf.argmax(Y,1)) #  model : 예측값, Y : 실제 정답\n",
    "accuracy = tf.reduce_mean(tf.cast(is_correct, tf.float32))"
   ]
  },
  {
   "cell_type": "code",
   "execution_count": 205,
   "id": "71fdb177-3295-4808-88cb-e52351a8d3ed",
   "metadata": {},
   "outputs": [
    {
     "name": "stdout",
     "output_type": "stream",
     "text": [
      "정확도 : 0.9742\n"
     ]
    }
   ],
   "source": [
    "# 10000장의 test data 정확도 계산\n",
    "print('정확도 :', sess.run(accuracy, feed_dict={X: test_data, Y: test_label}))"
   ]
  },
  {
   "cell_type": "code",
   "execution_count": 206,
   "id": "b02afe06-d91c-4a8f-8d57-448c3fe3b389",
   "metadata": {},
   "outputs": [
    {
     "data": {
      "text/plain": [
       "array([[0., 0., 0., ..., 0., 0., 0.],\n",
       "       [0., 0., 0., ..., 0., 0., 0.],\n",
       "       [0., 0., 0., ..., 0., 0., 0.],\n",
       "       ...,\n",
       "       [0., 0., 0., ..., 0., 0., 0.],\n",
       "       [0., 0., 0., ..., 0., 0., 0.],\n",
       "       [0., 0., 0., ..., 0., 0., 0.]])"
      ]
     },
     "execution_count": 206,
     "metadata": {},
     "output_type": "execute_result"
    }
   ],
   "source": [
    "test_data[:10]"
   ]
  },
  {
   "cell_type": "code",
   "execution_count": 207,
   "id": "4c8aa7f4-491b-46e3-8424-7c3bb6f5e505",
   "metadata": {},
   "outputs": [
    {
     "name": "stdout",
     "output_type": "stream",
     "text": [
      "[7, 2, 1, 0, 4, 1, 4, 9, 5, 9]\n"
     ]
    }
   ],
   "source": [
    "# 모델 예측 결과값\n",
    "\n",
    "predicted_labels = sess.run(tf.argmax(model, 1), feed_dict={X: test_data})\n",
    "print(list(predicted_labels)[:10])"
   ]
  },
  {
   "cell_type": "code",
   "execution_count": 209,
   "id": "d0136538-33fc-4a7d-b145-b77123a35ca7",
   "metadata": {},
   "outputs": [
    {
     "data": {
      "text/plain": [
       "array([[0., 0., 0., 0., 0., 0., 0., 1., 0., 0.],\n",
       "       [0., 0., 1., 0., 0., 0., 0., 0., 0., 0.],\n",
       "       [0., 1., 0., 0., 0., 0., 0., 0., 0., 0.],\n",
       "       [1., 0., 0., 0., 0., 0., 0., 0., 0., 0.],\n",
       "       [0., 0., 0., 0., 1., 0., 0., 0., 0., 0.],\n",
       "       [0., 1., 0., 0., 0., 0., 0., 0., 0., 0.],\n",
       "       [0., 0., 0., 0., 1., 0., 0., 0., 0., 0.],\n",
       "       [0., 0., 0., 0., 0., 0., 0., 0., 0., 1.],\n",
       "       [0., 0., 0., 0., 0., 1., 0., 0., 0., 0.],\n",
       "       [0., 0., 0., 0., 0., 0., 0., 0., 0., 1.]])"
      ]
     },
     "execution_count": 209,
     "metadata": {},
     "output_type": "execute_result"
    }
   ],
   "source": [
    "test_label[:10]"
   ]
  },
  {
   "cell_type": "code",
   "execution_count": 210,
   "id": "18247064-3612-400a-b974-9c5fbcacd818",
   "metadata": {},
   "outputs": [
    {
     "name": "stdout",
     "output_type": "stream",
     "text": [
      "[7 2 1 0 4 1 4 9 5 9]\n"
     ]
    }
   ],
   "source": [
    "# 실제 정답\n",
    "\n",
    "import numpy as np\n",
    "\n",
    "print(np.argmax(test_label, axis=1)[:10])"
   ]
  },
  {
   "cell_type": "code",
   "execution_count": null,
   "id": "14dea566-8d61-4a09-a351-cc344e544701",
   "metadata": {},
   "outputs": [],
   "source": []
  }
 ],
 "metadata": {
  "kernelspec": {
   "display_name": "Python 3 (ipykernel)",
   "language": "python",
   "name": "python3"
  },
  "language_info": {
   "codemirror_mode": {
    "name": "ipython",
    "version": 3
   },
   "file_extension": ".py",
   "mimetype": "text/x-python",
   "name": "python",
   "nbconvert_exporter": "python",
   "pygments_lexer": "ipython3",
   "version": "3.12.4"
  }
 },
 "nbformat": 4,
 "nbformat_minor": 5
}
