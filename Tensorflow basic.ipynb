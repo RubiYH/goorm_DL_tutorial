{
 "cells": [
  {
   "cell_type": "code",
   "execution_count": 2,
   "id": "346d99bf-ca0c-4ee7-9436-761b1af76c57",
   "metadata": {},
   "outputs": [],
   "source": [
    "import tensorflow.compat.v1 as tf\n",
    "\n",
    "tf.disable_v2_behavior()"
   ]
  },
  {
   "cell_type": "code",
   "execution_count": 4,
   "id": "25e28ab4-e35e-4359-92dc-b5fabf299c8d",
   "metadata": {},
   "outputs": [],
   "source": [
    "import numpy as np\n",
    "import pandas as pd"
   ]
  },
  {
   "cell_type": "code",
   "execution_count": 5,
   "id": "aac1731c-4152-496b-a523-a7b61101959e",
   "metadata": {},
   "outputs": [
    {
     "name": "stdout",
     "output_type": "stream",
     "text": [
      "Tensor(\"Add:0\", shape=(), dtype=int32)\n"
     ]
    }
   ],
   "source": [
    "a = tf.add(3,5)\n",
    "print(a)"
   ]
  },
  {
   "cell_type": "code",
   "execution_count": 7,
   "id": "528868a5-4680-4456-a353-9b9851add6f7",
   "metadata": {},
   "outputs": [
    {
     "name": "stdout",
     "output_type": "stream",
     "text": [
      "8\n"
     ]
    }
   ],
   "source": [
    "sess = tf.Session()\n",
    "\n",
    "print(sess.run(a))\n",
    "\n",
    "sess.close()"
   ]
  },
  {
   "cell_type": "code",
   "execution_count": 8,
   "id": "7e51fa88-3b32-4a33-a741-d3731dccbc59",
   "metadata": {},
   "outputs": [
    {
     "name": "stdout",
     "output_type": "stream",
     "text": [
      "8\n"
     ]
    }
   ],
   "source": [
    "with tf.Session() as sess:\n",
    "    print(sess.run(a))"
   ]
  },
  {
   "cell_type": "code",
   "execution_count": 18,
   "id": "20b4444b-af7b-4b72-8421-cb110533c2b2",
   "metadata": {},
   "outputs": [
    {
     "name": "stdout",
     "output_type": "stream",
     "text": [
      "7776 10\n"
     ]
    }
   ],
   "source": [
    "x = 2\n",
    "y = 3\n",
    "\n",
    "op1 = tf.add(x,y)\n",
    "op2 = tf.multiply(x,y)\n",
    "useless = tf.multiply(x,op1)\n",
    "op3 = tf.pow(op2,op1)\n",
    "\n",
    "with tf.Session() as sess:\n",
    "    op3, useless = sess.run([op3, useless])\n",
    "    print(op3, useless)"
   ]
  },
  {
   "cell_type": "markdown",
   "id": "9558e685-9190-49b1-8872-681d4a6ca1e8",
   "metadata": {},
   "source": [
    "# 03 - Linear Regression"
   ]
  },
  {
   "cell_type": "code",
   "execution_count": 21,
   "id": "9c5d83b3-601f-4ba5-8227-ef1457f8cd11",
   "metadata": {},
   "outputs": [],
   "source": [
    "import tensorflow.compat.v1 as tf\n",
    "tf.disable_v2_behavior()"
   ]
  },
  {
   "cell_type": "code",
   "execution_count": 24,
   "id": "11b36402-9358-409c-b3ae-a21713d287cd",
   "metadata": {},
   "outputs": [],
   "source": [
    "import pandas as pd\n",
    "import numpy as np\n",
    "import matplotlib.pyplot as plt\n",
    "from sklearn import datasets"
   ]
  },
  {
   "cell_type": "code",
   "execution_count": 90,
   "id": "ffd9404c-e7c3-4af1-b547-a7482dca06ae",
   "metadata": {},
   "outputs": [],
   "source": [
    "# 데이터 로드\n",
    "x_data = datasets.fetch_openml(name='boston',version=1).data.iloc[:,12]\n",
    "y_data = datasets.fetch_openml(name='boston',version=1).target"
   ]
  },
  {
   "cell_type": "code",
   "execution_count": 89,
   "id": "33263492-91c8-47a2-b04b-d25a4c698ad6",
   "metadata": {},
   "outputs": [
    {
     "data": {
      "text/html": [
       "<div>\n",
       "<style scoped>\n",
       "    .dataframe tbody tr th:only-of-type {\n",
       "        vertical-align: middle;\n",
       "    }\n",
       "\n",
       "    .dataframe tbody tr th {\n",
       "        vertical-align: top;\n",
       "    }\n",
       "\n",
       "    .dataframe thead th {\n",
       "        text-align: right;\n",
       "    }\n",
       "</style>\n",
       "<table border=\"1\" class=\"dataframe\">\n",
       "  <thead>\n",
       "    <tr style=\"text-align: right;\">\n",
       "      <th></th>\n",
       "      <th>LSTAT</th>\n",
       "      <th>MEDV</th>\n",
       "    </tr>\n",
       "  </thead>\n",
       "  <tbody>\n",
       "    <tr>\n",
       "      <th>0</th>\n",
       "      <td>4.98</td>\n",
       "      <td>24.0</td>\n",
       "    </tr>\n",
       "    <tr>\n",
       "      <th>1</th>\n",
       "      <td>9.14</td>\n",
       "      <td>21.6</td>\n",
       "    </tr>\n",
       "    <tr>\n",
       "      <th>2</th>\n",
       "      <td>4.03</td>\n",
       "      <td>34.7</td>\n",
       "    </tr>\n",
       "    <tr>\n",
       "      <th>3</th>\n",
       "      <td>2.94</td>\n",
       "      <td>33.4</td>\n",
       "    </tr>\n",
       "    <tr>\n",
       "      <th>4</th>\n",
       "      <td>5.33</td>\n",
       "      <td>36.2</td>\n",
       "    </tr>\n",
       "  </tbody>\n",
       "</table>\n",
       "</div>"
      ],
      "text/plain": [
       "   LSTAT  MEDV\n",
       "0   4.98  24.0\n",
       "1   9.14  21.6\n",
       "2   4.03  34.7\n",
       "3   2.94  33.4\n",
       "4   5.33  36.2"
      ]
     },
     "execution_count": 89,
     "metadata": {},
     "output_type": "execute_result"
    }
   ],
   "source": [
    "df = pd.DataFrame([x_data, y_data]).transpose()\n",
    "df.head()"
   ]
  },
  {
   "cell_type": "code",
   "execution_count": 91,
   "id": "bdd6eb23-db8c-4e36-88cd-387d67d9ecde",
   "metadata": {},
   "outputs": [],
   "source": [
    "w = tf.Variable(tf.random_normal([1])) # parameter 세타 정규분포로부터 랜덤하게 초기화\n",
    "b = tf.Variable(tf.random_normal([1]))\n",
    "\n",
    "y_predicted = w * x_data + b"
   ]
  },
  {
   "cell_type": "markdown",
   "id": "46dc6262-917a-4a5e-b5f0-73175d77a36b",
   "metadata": {},
   "source": [
    "loss = tf.reduce_mean(tf.square(y_predicted - y_data)) # MSE (평균 제곱 오차)\n",
    "optimizer = tf.train.GradientDescentOptimizer(0.001) # learning rate\n",
    "train = optimizer.minimize(loss)"
   ]
  },
  {
   "cell_type": "code",
   "execution_count": 98,
   "id": "2a986ce3-5e38-41d5-bff7-6a8ac83b73c3",
   "metadata": {},
   "outputs": [],
   "source": [
    "# for name in dir(tf.train):\n",
    "#     if 'Optimizer' in name:\n",
    "#         print(name)"
   ]
  },
  {
   "cell_type": "code",
   "execution_count": 102,
   "id": "7f381f32-f6b0-4069-a9df-612bcb8ecb19",
   "metadata": {},
   "outputs": [
    {
     "name": "stdout",
     "output_type": "stream",
     "text": [
      "Step 0: w [0.3779239] b [0.0841812]\n",
      "loss 440.3485107421875\n",
      "\n",
      "Step 1000: w [0.32782063] b [13.269212]\n",
      "loss 147.76034545898438\n",
      "\n",
      "Step 2000: w [-0.15996341] b [21.393906]\n",
      "loss 80.25692749023438\n",
      "\n",
      "Step 3000: w [-0.46154943] b [26.417225]\n",
      "loss 54.4522590637207\n",
      "\n",
      "Step 4000: w [-0.6480176] b [29.523098]\n",
      "loss 44.587642669677734\n",
      "\n",
      "Step 5000: w [-0.7633086] b [31.443424]\n",
      "loss 40.816612243652344\n",
      "\n",
      "Step 6000: w [-0.83458996] b [32.63071]\n",
      "loss 39.37507247924805\n",
      "\n",
      "Step 7000: w [-0.8786624] b [33.364796]\n",
      "loss 38.823997497558594\n",
      "\n",
      "Step 8000: w [-0.90591127] b [33.818665]\n",
      "loss 38.61333465576172\n",
      "\n",
      "Step 9000: w [-0.9227593] b [34.099285]\n",
      "loss 38.532806396484375\n",
      "\n"
     ]
    }
   ],
   "source": [
    "with tf.Session() as sess:\n",
    "    sess.run(tf.global_variables_initializer()) # tf.Variable 초기화\n",
    "\n",
    "    for step in range(10000): # epoch\n",
    "        sess.run(train) # 실제 gradient descent 실행되는 코드\n",
    "\n",
    "        # 1천번마다 확인용\n",
    "        if step % 1000 == 0:\n",
    "            print('Step {}: w {} b {}'.format(step, sess.run(w),sess.run(b)))\n",
    "            print('loss {}'.format(sess.run(loss)))\n",
    "            print()\n",
    "        #################\n",
    "\n",
    "    w_out, b_out = sess.run([w,b]) # 마지막 세타값으로 run"
   ]
  },
  {
   "cell_type": "code",
   "execution_count": 103,
   "id": "c6bb4b72-9d2e-4fef-90c8-89e2fdbc9850",
   "metadata": {},
   "outputs": [
    {
     "data": {
      "text/plain": [
       "array([-0.9331684], dtype=float32)"
      ]
     },
     "execution_count": 103,
     "metadata": {},
     "output_type": "execute_result"
    }
   ],
   "source": [
    "w_out"
   ]
  },
  {
   "cell_type": "code",
   "execution_count": 104,
   "id": "8219eb42-5362-4e5c-adaf-e2c38e79586b",
   "metadata": {},
   "outputs": [
    {
     "data": {
      "text/plain": [
       "array([34.272663], dtype=float32)"
      ]
     },
     "execution_count": 104,
     "metadata": {},
     "output_type": "execute_result"
    }
   ],
   "source": [
    "b_out"
   ]
  },
  {
   "cell_type": "code",
   "execution_count": 105,
   "id": "299547fe-0988-4eeb-b905-ae80151235c0",
   "metadata": {},
   "outputs": [
    {
     "data": {
      "image/png": "[encoded data removed]",
      "text/plain": [
       "<Figure size 1000x1000 with 1 Axes>"
      ]
     },
     "metadata": {},
     "output_type": "display_data"
    }
   ],
   "source": [
    "plt.figure(figsize= (10,10))\n",
    "plt.plot(x_data, y_data, 'bo', label='Real data')\n",
    "plt.plot(x_data, x_data * w_out + b_out, 'ro', label='Prediction')\n",
    "plt.legend()\n",
    "plt.show()"
   ]
  },
  {
   "cell_type": "code",
   "execution_count": null,
   "id": "70ecd054-e245-40c3-97f3-e7e1a3ead86d",
   "metadata": {},
   "outputs": [],
   "source": []
  }
 ],
 "metadata": {
  "kernelspec": {
   "display_name": "Python 3 (ipykernel)",
   "language": "python",
   "name": "python3"
  },
  "language_info": {
   "codemirror_mode": {
    "name": "ipython",
    "version": 3
   },
   "file_extension": ".py",
   "mimetype": "text/x-python",
   "name": "python",
   "nbconvert_exporter": "python",
   "pygments_lexer": "ipython3",
   "version": "3.12.4"
  }
 },
 "nbformat": 4,
 "nbformat_minor": 5
}
